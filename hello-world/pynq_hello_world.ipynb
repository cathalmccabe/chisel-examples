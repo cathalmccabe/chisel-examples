{
 "cells": [
  {
   "cell_type": "markdown",
   "metadata": {},
   "source": [
    "# Test Hello World example for PYNQ"
   ]
  },
  {
   "cell_type": "code",
   "execution_count": 1,
   "metadata": {},
   "outputs": [
    {
     "name": "stdout",
     "output_type": "stream",
     "text": [
      "sbt -mem 128 \"runMain Hello\"\n",
      "\u001b[0m[\u001b[0m\u001b[0minfo\u001b[0m] \u001b[0m\u001b[0mLoading project definition from /home/xilinx/jupyter_notebooks/chisel/chisel-examples/hello-world/project\u001b[0m\n",
      "\u001b[0m[\u001b[0m\u001b[0minfo\u001b[0m] \u001b[0m\u001b[0mLoading settings for project hello-world from build.sbt ...\u001b[0m\n",
      "\u001b[0m[\u001b[0m\u001b[0minfo\u001b[0m] \u001b[0m\u001b[0mSet current project to hello-world (in build file:/home/xilinx/jupyter_notebooks/chisel/chisel-examples/hello-world/)\u001b[0m\n",
      "\u001b[0m[\u001b[0m\u001b[0minfo\u001b[0m] \u001b[0m\u001b[0mRunning Hello \u001b[0m\n",
      "[\u001b[35minfo\u001b[0m] [0.020] Elaborating design...\n",
      "[\u001b[35minfo\u001b[0m] [9.668] Done elaborating.\n",
      "Total FIRRTL Compile Time: 4533.9 ms\n",
      "\u001b[0m[\u001b[0m\u001b[32msuccess\u001b[0m] \u001b[0m\u001b[0mTotal time: 32 s, completed Aug 8, 2018 10:24:10 AM\u001b[0m\n"
     ]
    }
   ],
   "source": [
    "!make"
   ]
  },
  {
   "cell_type": "markdown",
   "metadata": {},
   "source": [
    "## Build Vivado project offline\n",
    "\n",
    "Build Vivado Zynq project offline using generated Verilog\n",
    "\n",
    "Source files (provided in this repo):\n",
    "* chisel_hello_world.tcl\n",
    "* pin_constraints.xdc for PYNQ-Z2\n",
    "\n",
    "Run `vivado -f chisel_hello_world.tcl` in Vivado (this Tcl file was generated using with Vivado 2018.1)\n",
    "\n",
    "Tcl file generates the Vivado block design \n",
    "\n",
    "** Compiled bitstream is also provided so this build step can be skipped. **\n",
    "\n",
    "If rebuilding the bitstream, the .bit and .tcl must be copied to the board. "
   ]
  },
  {
   "cell_type": "markdown",
   "metadata": {},
   "source": [
    "## Vivado block diagram:\n",
    "\n",
    "<img src=\"./vivado/block_diagram.png\">\n",
    "\n",
    "### Clock\n",
    "\n",
    "The clock to the Chisel IP is FCLK_0, controlled from the Zynq PS. It can be set between 10 MHZ and 250 MHz. \n",
    "\n",
    "### Reset\n",
    "\n",
    "The reset is connected to the PS GPIO (0)\n",
    "\n",
    "### LED\n",
    "\n",
    "The LED is connected to LED0 on the board, but can also be read back via GPIO (1)"
   ]
  },
  {
   "cell_type": "code",
   "execution_count": null,
   "metadata": {},
   "outputs": [],
   "source": [
    "from pynq import Overlay\n",
    "ol = Overlay(\"./vivado/chisel_hello_world.bit\") # downoad the bitstream"
   ]
  },
  {
   "cell_type": "markdown",
   "metadata": {},
   "source": [
    "Once the bitstream is downloaded, the LED should start to blink."
   ]
  },
  {
   "cell_type": "markdown",
   "metadata": {},
   "source": [
    "## Check the clock frequency"
   ]
  },
  {
   "cell_type": "code",
   "execution_count": 2,
   "metadata": {},
   "outputs": [
    {
     "data": {
      "application/javascript": [
       "\n",
       "require(['notebook/js/codecell'], function(codecell) {\n",
       "  codecell.CodeCell.options_default.highlight_modes[\n",
       "      'magic_text/x-csrc'] = {'reg':[/^%%microblaze/]};\n",
       "  Jupyter.notebook.events.one('kernel_ready.Kernel', function(){\n",
       "      Jupyter.notebook.get_cells().map(function(cell){\n",
       "          if (cell.cell_type == 'code'){ cell.auto_highlight(); } }) ;\n",
       "  });\n",
       "});\n"
      ]
     },
     "metadata": {},
     "output_type": "display_data"
    },
    {
     "name": "stdout",
     "output_type": "stream",
     "text": [
      "FCLK0: 250.000000MHz\n"
     ]
    }
   ],
   "source": [
    "from pynq import Clocks\n",
    "print(f'FCLK0: {Clocks.fclk0_mhz:.6f}MHz')"
   ]
  },
  {
   "cell_type": "markdown",
   "metadata": {},
   "source": [
    "# Control the design\n",
    "\n",
    "The widgets below can be used to control the reset to the IP, and to control the clock frequency to the IP (make the LED blink faster or slower)\n",
    "\n",
    "Note, the clock frequency has specific values that can be set between 10 MHz and 250 MHz. Depending on the frequency selected, it will round the frequency to the nearest available frequency. If this value is off by more than 1% a warning will be printed. "
   ]
  },
  {
   "cell_type": "code",
   "execution_count": 4,
   "metadata": {},
   "outputs": [
    {
     "data": {
      "application/vnd.jupyter.widget-view+json": {
       "model_id": "178d47018bc845ac9427594ae821e7d3",
       "version_major": 2,
       "version_minor": 0
      },
      "text/html": [
       "<p>Failed to display Jupyter Widget of type <code>interactive</code>.</p>\n",
       "<p>\n",
       "  If you're reading this message in the Jupyter Notebook or JupyterLab Notebook, it may mean\n",
       "  that the widgets JavaScript is still loading. If this message persists, it\n",
       "  likely means that the widgets JavaScript library is either not installed or\n",
       "  not enabled. See the <a href=\"https://ipywidgets.readthedocs.io/en/stable/user_install.html\">Jupyter\n",
       "  Widgets Documentation</a> for setup instructions.\n",
       "</p>\n",
       "<p>\n",
       "  If you're reading this message in another frontend (for example, a static\n",
       "  rendering on GitHub or <a href=\"https://nbviewer.jupyter.org/\">NBViewer</a>),\n",
       "  it may mean that your frontend doesn't currently support widgets.\n",
       "</p>\n"
      ],
      "text/plain": [
       "interactive(children=(ToggleButton(value=False, description='Reset', icon='check', tooltip='Description'), Output()), _dom_classes=('widget-interact',))"
      ]
     },
     "metadata": {},
     "output_type": "display_data"
    },
    {
     "data": {
      "application/vnd.jupyter.widget-view+json": {
       "model_id": "a84fe24929f54256adffc7bc713e4a5c",
       "version_major": 2,
       "version_minor": 0
      },
      "text/html": [
       "<p>Failed to display Jupyter Widget of type <code>interactive</code>.</p>\n",
       "<p>\n",
       "  If you're reading this message in the Jupyter Notebook or JupyterLab Notebook, it may mean\n",
       "  that the widgets JavaScript is still loading. If this message persists, it\n",
       "  likely means that the widgets JavaScript library is either not installed or\n",
       "  not enabled. See the <a href=\"https://ipywidgets.readthedocs.io/en/stable/user_install.html\">Jupyter\n",
       "  Widgets Documentation</a> for setup instructions.\n",
       "</p>\n",
       "<p>\n",
       "  If you're reading this message in another frontend (for example, a static\n",
       "  rendering on GitHub or <a href=\"https://nbviewer.jupyter.org/\">NBViewer</a>),\n",
       "  it may mean that your frontend doesn't currently support widgets.\n",
       "</p>\n"
      ],
      "text/plain": [
       "interactive(children=(FloatSlider(value=10.0, continuous_update=False, description='PL clock frequency:', max=250.0, min=10.0, readout_format='.1f', step=1.0), Output()), _dom_classes=('widget-interact',))"
      ]
     },
     "metadata": {},
     "output_type": "display_data"
    },
    {
     "data": {
      "text/plain": [
       "<function __main__.set_clock>"
      ]
     },
     "execution_count": 4,
     "metadata": {},
     "output_type": "execute_result"
    }
   ],
   "source": [
    "import ipywidgets as widgets\n",
    "from ipywidgets import interact\n",
    "from pynq import GPIO\n",
    "reset = GPIO(GPIO.get_gpio_pin(0), 'out')\n",
    "led0 = GPIO(GPIO.get_gpio_pin(1), 'in')\n",
    "\n",
    "def toggle_reset(x):\n",
    "    reset.write(int(x))\n",
    "    \n",
    "def set_clock(x):\n",
    "    Clocks.fclk0_mhz = x\n",
    "    \n",
    "interact(toggle_reset, x=widgets.ToggleButton(\n",
    "    value=False,\n",
    "    description='Reset',\n",
    "    disabled=False,\n",
    "    button_style='', # 'success', 'info', 'warning', 'danger' or ''\n",
    "    tooltip='Description',\n",
    "    icon='check'\n",
    "));\n",
    "\n",
    "interact(set_clock, x=\n",
    "    widgets.FloatSlider(\n",
    "    value=7.5,\n",
    "    min=10,\n",
    "    max=250,\n",
    "    step=1,\n",
    "    description='PL clock frequency:',\n",
    "    disabled=False,\n",
    "    continuous_update=False,\n",
    "    orientation='horizontal',\n",
    "    readout=True,\n",
    "    readout_format='.1f',\n",
    "))\n"
   ]
  }
 ],
 "metadata": {
  "kernelspec": {
   "display_name": "Python 3",
   "language": "python",
   "name": "python3"
  },
  "language_info": {
   "codemirror_mode": {
    "name": "ipython",
    "version": 3
   },
   "file_extension": ".py",
   "mimetype": "text/x-python",
   "name": "python",
   "nbconvert_exporter": "python",
   "pygments_lexer": "ipython3",
   "version": "3.6.0"
  }
 },
 "nbformat": 4,
 "nbformat_minor": 2
}
