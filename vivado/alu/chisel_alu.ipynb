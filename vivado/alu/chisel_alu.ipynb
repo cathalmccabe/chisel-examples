{
 "cells": [
  {
   "cell_type": "markdown",
   "metadata": {},
   "source": [
    "# Build Vivado project offline\n",
    "\n",
    "Build Vivado Zynq project offline using generated Verilog\n",
    "\n",
    "Source files (provided in this repo):\n",
    "\n",
    "chisel_alu.tcl\n",
    "pin_constraints.xdc for PYNQ-Z2\n",
    "\n",
    "Run vivado -f chisel_alu.tcl in Vivado (this Tcl file was generated using with Vivado 2018.1)\n",
    "\n",
    "Tcl file generates the Vivado block design\n",
    "\n",
    "Compiled bitstream is also provided so this build step can be skipped.\n",
    "\n",
    "If rebuilding the bitstream, the .bit and .tcl must be copied to the board.\n",
    "\n",
    "\n",
    "## Vivado block diagram:\n",
    "\n",
    "<img src=\"./alu_bd.png\">\n",
    "\n",
    "### Clock\n",
    "\n",
    "The clock to the Chisel IP is FCLK_0, controlled from the Zynq PS. It can be set between 10 MHZ and 250 MHz. \n",
    "\n",
    "### Reset\n",
    "\n",
    "The reset is connected to the PS GPIO (0)\n",
    "\n",
    "### io_Sw\n",
    "\n",
    "io_sw is connected to GPIO 1 - 10 \n",
    "\n",
    "### LED\n",
    "\n",
    "The LED is connected to GPIO 11-20 on the board, and also to the yellow, and RGB leds. "
   ]
  },
  {
   "cell_type": "code",
   "execution_count": 1,
   "metadata": {},
   "outputs": [
    {
     "data": {
      "application/javascript": [
       "\n",
       "require(['notebook/js/codecell'], function(codecell) {\n",
       "  codecell.CodeCell.options_default.highlight_modes[\n",
       "      'magic_text/x-csrc'] = {'reg':[/^%%microblaze/]};\n",
       "  Jupyter.notebook.events.one('kernel_ready.Kernel', function(){\n",
       "      Jupyter.notebook.get_cells().map(function(cell){\n",
       "          if (cell.cell_type == 'code'){ cell.auto_highlight(); } }) ;\n",
       "  });\n",
       "});\n"
      ]
     },
     "metadata": {},
     "output_type": "display_data"
    }
   ],
   "source": [
    "from pynq import Overlay\n",
    "ol = Overlay(\"./chisel_alu.bit\") # download the bitstream"
   ]
  },
  {
   "cell_type": "markdown",
   "metadata": {},
   "source": [
    "Once the bitstream is downloaded??"
   ]
  },
  {
   "cell_type": "markdown",
   "metadata": {},
   "source": [
    "Check the clock frequency"
   ]
  },
  {
   "cell_type": "code",
   "execution_count": 2,
   "metadata": {},
   "outputs": [
    {
     "name": "stdout",
     "output_type": "stream",
     "text": [
      "FCLK0: 31.250000MHz\n"
     ]
    }
   ],
   "source": [
    "from pynq import Clocks\n",
    "print(f'FCLK0: {Clocks.fclk0_mhz:.6f}MHz')"
   ]
  },
  {
   "cell_type": "markdown",
   "metadata": {},
   "source": [
    "Control the design\n",
    "The widgets below can be used to control the reset to the IP, and to control the clock frequency to the IP (make the LED blink faster or slower)\n",
    "\n",
    "Note, the clock frequency has specific values that can be set between 10 MHz and 250 MHz. Depending on the frequency selected, it will round the frequency to the nearest available frequency. If this value is off by more than 1% a warning will be printed."
   ]
  },
  {
   "cell_type": "code",
   "execution_count": null,
   "metadata": {},
   "outputs": [],
   "source": [
    "import ipywidgets as widgets\n",
    "from ipywidgets import interact\n",
    "from pynq import GPIO\n",
    "reset = GPIO(GPIO.get_gpio_pin(0), 'out')\n",
    "\n",
    "alu_op = []\n",
    "alu_a = []\n",
    "alu_b = []\n",
    "leds = []"
   ]
  },
  {
   "cell_type": "code",
   "execution_count": 26,
   "metadata": {},
   "outputs": [],
   "source": [
    "for i in range(2): \n",
    "    alu_op.append(GPIO(GPIO.get_gpio_pin(i+1), 'out'))\n",
    "\n",
    "for i in range(4): \n",
    "    alu_a.append(GPIO(GPIO.get_gpio_pin(i+3), 'out'))\n",
    "\n",
    "for i in range(4): \n",
    "    alu_b.append(GPIO(GPIO.get_gpio_pin(i+7), 'out'))"
   ]
  },
  {
   "cell_type": "code",
   "execution_count": 32,
   "metadata": {},
   "outputs": [],
   "source": [
    "for i in range(10):\n",
    "    leds.append(GPIO(GPIO.get_gpio_pin(i+11), 'in'))    "
   ]
  },
  {
   "cell_type": "code",
   "execution_count": 27,
   "metadata": {},
   "outputs": [],
   "source": [
    "def write_alu_op(x):\n",
    "    for i in range(2):\n",
    "        alu_op[i].write(int((x >> i) and 1))\n",
    "    \n",
    "def write_alu_a(x):\n",
    "    for i in range(4):\n",
    "        alu_a[i].write(int((x >> i) and 1))\n",
    "    \n",
    "def write_alu_b(x):\n",
    "    for i in range(4):\n",
    "        alu_b[i].write(int((x >> i) and 1))\n",
    "    \n",
    "def read_leds():\n",
    "    for i in range(10):\n",
    "        print(leds[i].read())    \n",
    "        \n",
    "def toggle_reset(x):\n",
    "    reset.write(int(x))\n",
    "    \n",
    "def set_clock(x):\n",
    "    Clocks.fclk0_mhz = x"
   ]
  },
  {
   "cell_type": "code",
   "execution_count": 28,
   "metadata": {},
   "outputs": [],
   "source": [
    "in_sw[0].write(1)"
   ]
  },
  {
   "cell_type": "code",
   "execution_count": 35,
   "metadata": {},
   "outputs": [
    {
     "data": {
      "application/vnd.jupyter.widget-view+json": {
       "model_id": "9cea144cb1bf4aec91c9cea73bc1c0b4",
       "version_major": 2,
       "version_minor": 0
      },
      "text/html": [
       "<p>Failed to display Jupyter Widget of type <code>interactive</code>.</p>\n",
       "<p>\n",
       "  If you're reading this message in the Jupyter Notebook or JupyterLab Notebook, it may mean\n",
       "  that the widgets JavaScript is still loading. If this message persists, it\n",
       "  likely means that the widgets JavaScript library is either not installed or\n",
       "  not enabled. See the <a href=\"https://ipywidgets.readthedocs.io/en/stable/user_install.html\">Jupyter\n",
       "  Widgets Documentation</a> for setup instructions.\n",
       "</p>\n",
       "<p>\n",
       "  If you're reading this message in another frontend (for example, a static\n",
       "  rendering on GitHub or <a href=\"https://nbviewer.jupyter.org/\">NBViewer</a>),\n",
       "  it may mean that your frontend doesn't currently support widgets.\n",
       "</p>\n"
      ],
      "text/plain": [
       "interactive(children=(ToggleButton(value=False, description='Reset', icon='check', tooltip='Description'), Output()), _dom_classes=('widget-interact',))"
      ]
     },
     "metadata": {},
     "output_type": "display_data"
    },
    {
     "data": {
      "application/vnd.jupyter.widget-view+json": {
       "model_id": "ce246caffbc9455fb0a19da84105fca9",
       "version_major": 2,
       "version_minor": 0
      },
      "text/html": [
       "<p>Failed to display Jupyter Widget of type <code>interactive</code>.</p>\n",
       "<p>\n",
       "  If you're reading this message in the Jupyter Notebook or JupyterLab Notebook, it may mean\n",
       "  that the widgets JavaScript is still loading. If this message persists, it\n",
       "  likely means that the widgets JavaScript library is either not installed or\n",
       "  not enabled. See the <a href=\"https://ipywidgets.readthedocs.io/en/stable/user_install.html\">Jupyter\n",
       "  Widgets Documentation</a> for setup instructions.\n",
       "</p>\n",
       "<p>\n",
       "  If you're reading this message in another frontend (for example, a static\n",
       "  rendering on GitHub or <a href=\"https://nbviewer.jupyter.org/\">NBViewer</a>),\n",
       "  it may mean that your frontend doesn't currently support widgets.\n",
       "</p>\n"
      ],
      "text/plain": [
       "interactive(children=(FloatSlider(value=10.0, continuous_update=False, description='PL clock frequency:', max=250.0, min=10.0, readout_format='.1f', step=1.0), Output()), _dom_classes=('widget-interact',))"
      ]
     },
     "metadata": {},
     "output_type": "display_data"
    },
    {
     "data": {
      "application/vnd.jupyter.widget-view+json": {
       "model_id": "9d1c09c0e2de446699f05f2a8c7c8026",
       "version_major": 2,
       "version_minor": 0
      },
      "text/html": [
       "<p>Failed to display Jupyter Widget of type <code>interactive</code>.</p>\n",
       "<p>\n",
       "  If you're reading this message in the Jupyter Notebook or JupyterLab Notebook, it may mean\n",
       "  that the widgets JavaScript is still loading. If this message persists, it\n",
       "  likely means that the widgets JavaScript library is either not installed or\n",
       "  not enabled. See the <a href=\"https://ipywidgets.readthedocs.io/en/stable/user_install.html\">Jupyter\n",
       "  Widgets Documentation</a> for setup instructions.\n",
       "</p>\n",
       "<p>\n",
       "  If you're reading this message in another frontend (for example, a static\n",
       "  rendering on GitHub or <a href=\"https://nbviewer.jupyter.org/\">NBViewer</a>),\n",
       "  it may mean that your frontend doesn't currently support widgets.\n",
       "</p>\n"
      ],
      "text/plain": [
       "interactive(children=(BoundedIntText(value=0, description='ALU op:', max=3), Output()), _dom_classes=('widget-interact',))"
      ]
     },
     "metadata": {},
     "output_type": "display_data"
    },
    {
     "data": {
      "application/vnd.jupyter.widget-view+json": {
       "model_id": "6fae61d1dae04220a1dfbc96c88474fd",
       "version_major": 2,
       "version_minor": 0
      },
      "text/html": [
       "<p>Failed to display Jupyter Widget of type <code>interactive</code>.</p>\n",
       "<p>\n",
       "  If you're reading this message in the Jupyter Notebook or JupyterLab Notebook, it may mean\n",
       "  that the widgets JavaScript is still loading. If this message persists, it\n",
       "  likely means that the widgets JavaScript library is either not installed or\n",
       "  not enabled. See the <a href=\"https://ipywidgets.readthedocs.io/en/stable/user_install.html\">Jupyter\n",
       "  Widgets Documentation</a> for setup instructions.\n",
       "</p>\n",
       "<p>\n",
       "  If you're reading this message in another frontend (for example, a static\n",
       "  rendering on GitHub or <a href=\"https://nbviewer.jupyter.org/\">NBViewer</a>),\n",
       "  it may mean that your frontend doesn't currently support widgets.\n",
       "</p>\n"
      ],
      "text/plain": [
       "interactive(children=(BoundedIntText(value=0, description='ALU b:', max=15), Output()), _dom_classes=('widget-interact',))"
      ]
     },
     "metadata": {},
     "output_type": "display_data"
    },
    {
     "data": {
      "application/vnd.jupyter.widget-view+json": {
       "model_id": "f6da79a3b50d4ba0bc23e38113dd594a",
       "version_major": 2,
       "version_minor": 0
      },
      "text/html": [
       "<p>Failed to display Jupyter Widget of type <code>interactive</code>.</p>\n",
       "<p>\n",
       "  If you're reading this message in the Jupyter Notebook or JupyterLab Notebook, it may mean\n",
       "  that the widgets JavaScript is still loading. If this message persists, it\n",
       "  likely means that the widgets JavaScript library is either not installed or\n",
       "  not enabled. See the <a href=\"https://ipywidgets.readthedocs.io/en/stable/user_install.html\">Jupyter\n",
       "  Widgets Documentation</a> for setup instructions.\n",
       "</p>\n",
       "<p>\n",
       "  If you're reading this message in another frontend (for example, a static\n",
       "  rendering on GitHub or <a href=\"https://nbviewer.jupyter.org/\">NBViewer</a>),\n",
       "  it may mean that your frontend doesn't currently support widgets.\n",
       "</p>\n"
      ],
      "text/plain": [
       "interactive(children=(BoundedIntText(value=0, description='ALU b:', max=15), Output()), _dom_classes=('widget-interact',))"
      ]
     },
     "metadata": {},
     "output_type": "display_data"
    },
    {
     "data": {
      "text/plain": [
       "<function __main__.write_alu_b>"
      ]
     },
     "execution_count": 35,
     "metadata": {},
     "output_type": "execute_result"
    }
   ],
   "source": [
    "    \n",
    "interact(toggle_reset, x=widgets.ToggleButton(\n",
    "    value=False,\n",
    "    description='Reset',\n",
    "    disabled=False,\n",
    "    button_style='', # 'success', 'info', 'warning', 'danger' or ''\n",
    "    tooltip='Description',\n",
    "    icon='check'\n",
    "));\n",
    "\n",
    "interact(set_clock, x=\n",
    "    widgets.FloatSlider(\n",
    "    value=7.5,\n",
    "    min=10,\n",
    "    max=250,\n",
    "    step=1,\n",
    "    description='PL clock frequency:',\n",
    "    disabled=False,\n",
    "    continuous_update=False,\n",
    "    orientation='horizontal',\n",
    "    readout=True,\n",
    "    readout_format='.1f',\n",
    "))\n",
    "\n",
    "interact(write_alu_op, x=widgets.BoundedIntText(\n",
    "    value=0,\n",
    "    min=0,\n",
    "    max=3,\n",
    "    step=1,\n",
    "    description='ALU op:',\n",
    "    disabled=False\n",
    "))\n",
    "\n",
    "\n",
    "interact(write_alu_a, x=widgets.BoundedIntText(\n",
    "    value=0,\n",
    "    min=0,\n",
    "    max=15,\n",
    "    step=1,\n",
    "    description='ALU b:',\n",
    "    disabled=False\n",
    "))\n",
    "\n",
    "\n",
    "interact(write_alu_b, x=widgets.BoundedIntText(\n",
    "    value=0,\n",
    "    min=0,\n",
    "    max=15,\n",
    "    step=1,\n",
    "    description='ALU b:',\n",
    "    disabled=False\n",
    "))\n",
    "\n",
    "#interact(update_leds, x=widgets.Text(\n",
    "#    value=leds_value,\n",
    "#    placeholder='Type something',\n",
    "#    description='String:',\n",
    "#    disabled=False\n",
    "#))"
   ]
  },
  {
   "cell_type": "code",
   "execution_count": 36,
   "metadata": {},
   "outputs": [
    {
     "name": "stdout",
     "output_type": "stream",
     "text": [
      "0\n",
      "1\n",
      "0\n",
      "0\n",
      "0\n",
      "0\n",
      "0\n",
      "0\n",
      "0\n",
      "0\n"
     ]
    }
   ],
   "source": [
    "read_leds()"
   ]
  }
 ],
 "metadata": {
  "kernelspec": {
   "display_name": "Python 3",
   "language": "python",
   "name": "python3"
  },
  "language_info": {
   "codemirror_mode": {
    "name": "ipython",
    "version": 3
   },
   "file_extension": ".py",
   "mimetype": "text/x-python",
   "name": "python",
   "nbconvert_exporter": "python",
   "pygments_lexer": "ipython3",
   "version": "3.6.0"
  }
 },
 "nbformat": 4,
 "nbformat_minor": 2
}
